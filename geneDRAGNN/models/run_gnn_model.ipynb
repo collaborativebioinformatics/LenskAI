{
 "cells": [
  {
   "cell_type": "markdown",
   "metadata": {},
   "source": [
    "# Run GNN Model\n",
    "\n",
    "This notebook illustrates how to build a GNN model, load its training checkpoint, and run it."
   ]
  },
  {
   "cell_type": "code",
   "execution_count": 1,
   "metadata": {},
   "outputs": [],
   "source": [
    "import torch\n",
    "import pytorch_lightning as pl\n",
    "import torch_geometric\n",
    "\n",
    "import models\n",
    "import model_utils"
   ]
  },
  {
   "cell_type": "markdown",
   "metadata": {},
   "source": [
    "Load Data"
   ]
  },
  {
   "cell_type": "code",
   "execution_count": 2,
   "metadata": {},
   "outputs": [],
   "source": [
    "from data_utils import read_data, create_data\n",
    "\n",
    "node_dataset, edge_list, labels = read_data(node_filepath=\"../data/final_data/node_node2vec_data.csv\",\n",
    "                                            label_filepath=\"../data/final_data/training_labels_trials.csv\",\n",
    "                                            edgelist_path=\"../data/final_data/ls-fgin_edge_list.edg\",\n",
    "                                            feats_type='nodeonly')\n",
    "data = create_data(node_dataset, edge_list, labels, label_col='label_99') # using labels associated with 99th trial"
   ]
  },
  {
   "cell_type": "code",
   "execution_count": 3,
   "metadata": {},
   "outputs": [],
   "source": [
    "num_classes = 2\n",
    "num_features = len(node_dataset.columns)"
   ]
  },
  {
   "cell_type": "markdown",
   "metadata": {},
   "source": [
    "Load Model"
   ]
  },
  {
   "cell_type": "code",
   "execution_count": 4,
   "metadata": {},
   "outputs": [],
   "source": [
    "# select model\n",
    "\n",
    "model_name = 'SGConv' # options: 'SGConv', 'GraphSAGE', 'TAG', 'ClusterGCN'\n",
    "\n",
    "model_creator_dict = {'SGConv': models.create_SGConv_GNN, 'GraphSAGE': models.create_GraphSAGE_GNN, 'TAG': models.create_TAG_GNN}\n",
    "\n",
    "path_to_checkpoint_dict = {'SGConv': 'model_checkpoints/SGConv_trial99.ckpt'}"
   ]
  },
  {
   "cell_type": "code",
   "execution_count": 5,
   "metadata": {},
   "outputs": [],
   "source": [
    "create_model = model_creator_dict[model_name]"
   ]
  },
  {
   "cell_type": "code",
   "execution_count": 6,
   "metadata": {},
   "outputs": [],
   "source": [
    "model = create_model(model_name, num_features=num_features, num_classes=num_classes)"
   ]
  },
  {
   "cell_type": "code",
   "execution_count": 7,
   "metadata": {},
   "outputs": [
    {
     "data": {
      "text/plain": [
       "LitGNN(\n",
       "  (model): GNNModel(\n",
       "    (convs): ModuleList(\n",
       "      (0): SGConv(107, 128, K=1)\n",
       "      (1): SGConv(128, 256, K=1)\n",
       "      (2): SGConv(256, 256, K=1)\n",
       "      (3): SGConv(256, 128, K=1)\n",
       "    )\n",
       "    (dense1): Linear(in_features=128, out_features=128, bias=True)\n",
       "    (dense_out): Linear(in_features=128, out_features=2, bias=True)\n",
       "  )\n",
       "  (loss_module): CrossEntropyLoss()\n",
       ")"
      ]
     },
     "execution_count": 7,
     "metadata": {},
     "output_type": "execute_result"
    }
   ],
   "source": [
    "path_to_checkpoint = path_to_checkpoint_dict[model_name]\n",
    "model.load_from_checkpoint(path_to_checkpoint)"
   ]
  },
  {
   "cell_type": "markdown",
   "metadata": {},
   "source": [
    "Run model on data"
   ]
  },
  {
   "cell_type": "code",
   "execution_count": null,
   "metadata": {},
   "outputs": [],
   "source": [
    "logits, _, _ = model.forward(data.to(device='cuda'))"
   ]
  },
  {
   "cell_type": "code",
   "execution_count": null,
   "metadata": {},
   "outputs": [],
   "source": [
    "train_report, test_report = model_utils.evaluate_model(model, data)"
   ]
  }
 ],
 "metadata": {
  "interpreter": {
   "hash": "f04761ed854243a5e960e595e4c407fbcf75c69f7c2eeb424712c8069bddac2c"
  },
  "kernelspec": {
   "display_name": "Python 3.8.5 ('geneDRAGNN')",
   "language": "python",
   "name": "python3"
  },
  "language_info": {
   "codemirror_mode": {
    "name": "ipython",
    "version": 3
   },
   "file_extension": ".py",
   "mimetype": "text/x-python",
   "name": "python",
   "nbconvert_exporter": "python",
   "pygments_lexer": "ipython3",
   "version": "3.8.6"
  },
  "orig_nbformat": 4
 },
 "nbformat": 4,
 "nbformat_minor": 2
}
